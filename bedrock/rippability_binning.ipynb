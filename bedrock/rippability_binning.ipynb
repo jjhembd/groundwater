{
 "cells": [
  {
   "cell_type": "markdown",
   "metadata": {},
   "source": [
    "# Gridding lots of map data"
   ]
  },
  {
   "cell_type": "markdown",
   "metadata": {},
   "source": [
    "Goal: generate a regularly-sampled raster dataset of rippability estimates.\n",
    "\n",
    "The raw rippability estimates come from water wells, which are scattered irregularly across the map. Generating a regularly-sampled raster is therefore an interpolation problem.\n",
    "\n",
    "[Previous tests](./data/rippability_interpolation.ipynb) based on [Matt Hall's example](https://github.com/agile-geoscience/xlines/blob/master/notebooks/11_Gridding_map_data.ipynb) showed good results from the [scipy.interpolate radial basis function (Rbf)](https://docs.scipy.org/doc/scipy/reference/generated/scipy.interpolate.Rbf.html) method, especially with the 'gaussian' option. But trying to run Rbf with 82,299 input points gives an error like this:\n",
    "\n",
    "```\n",
    "MemoryError: Unable to allocate 50.5 GiB for an array with shape (82299, 82299) and data type float64\n",
    "```\n",
    "\n",
    "This is clearly not scalable: for $ N $ points, the memory requirement is $ N^2 $! Why does it need to be one big matrix problem?"
   ]
  },
  {
   "cell_type": "markdown",
   "metadata": {},
   "source": [
    "Let's try another strategy, similar to Gaussian [kernel smoothing](https://en.wikipedia.org/wiki/Kernel_smoother). The smoothed value for a given *output* point $ X_0 $ is"
   ]
  },
  {
   "cell_type": "markdown",
   "metadata": {},
   "source": [
    "$$ Y(X_0) = \\frac{\\sum_{i=1}^N K(X_0, X_i) Y(X_i)}{\\sum_{i=1}^N K(X_0, X_i)} $$"
   ]
  },
  {
   "cell_type": "markdown",
   "metadata": {},
   "source": [
    "where $ K(X_0, X_i) $ is the Gaussian kernel"
   ]
  },
  {
   "cell_type": "markdown",
   "metadata": {},
   "source": [
    "$$ K(X_0, X_i) = \\exp \\left( - \\frac{(X_i - X_0)^2}{2 b^2} \\right) $$"
   ]
  },
  {
   "cell_type": "markdown",
   "metadata": {},
   "source": [
    "For efficiency, we can assume the kernel is truncated beyond some finite distance, i.e., ... TODO. We therefore need 3 things:\n",
    "1. A distance function to compute meaningful values $ (X_i - X_0) $. The coordinates of each $ X $ are assumed to be (longitude, latitude) pairs\n",
    "2. A kernel function to return the value of the Gaussian kernel $ K $, given a distance $ (X_i - X_0) $ and width parameter $ b $\n",
    "3. A grid of output points on which to compute the interpolated values\n",
    "4. An index calculation, to find the range of output points $ X_0 $ to which a given point $ X_i $ will contribute\n",
    "5. A master function to loop over input points, accumulate weighted sums on the output points, and normalize the final outputs by the accumulated weights"
   ]
  },
  {
   "cell_type": "markdown",
   "metadata": {},
   "source": [
    "## Kernel and Distance functions"
   ]
  },
  {
   "cell_type": "code",
   "execution_count": 3,
   "metadata": {},
   "outputs": [],
   "source": [
    "import numpy"
   ]
  },
  {
   "cell_type": "code",
   "execution_count": 188,
   "metadata": {},
   "outputs": [],
   "source": [
    "def kernel(normdist):\n",
    "    return numpy.exp(-0.5 * normdist * normdist)"
   ]
  },
  {
   "cell_type": "code",
   "execution_count": 186,
   "metadata": {},
   "outputs": [
    {
     "data": {
      "text/plain": [
       "array([6.06530660e-01, 1.00000000e+00, 6.06530660e-01, 1.35335283e-01,\n",
       "       1.11089965e-02, 3.35462628e-04])"
      ]
     },
     "execution_count": 186,
     "metadata": {},
     "output_type": "execute_result"
    }
   ],
   "source": [
    "kernel(numpy.array([-1., 0., 1., 2., 3., 4.]))"
   ]
  },
  {
   "cell_type": "code",
   "execution_count": 192,
   "metadata": {},
   "outputs": [],
   "source": [
    "import matplotlib.pyplot as plt"
   ]
  },
  {
   "cell_type": "code",
   "execution_count": 62,
   "metadata": {},
   "outputs": [],
   "source": [
    "testwin = numpy.linspace(-4, 4, 81)"
   ]
  },
  {
   "cell_type": "code",
   "execution_count": 187,
   "metadata": {},
   "outputs": [
    {
     "data": {
      "image/png": "[encoded data removed]",
      "text/plain": [
       "<Figure size 432x288 with 1 Axes>"
      ]
     },
     "metadata": {
      "needs_background": "light"
     },
     "output_type": "display_data"
    }
   ],
   "source": [
    "plt.plot(testwin, kernel(testwin))\n",
    "plt.axis([-4, 4, 0, 1])\n",
    "plt.show()"
   ]
  },
  {
   "cell_type": "markdown",
   "metadata": {},
   "source": [
    "We use the [Havsersine formula](https://en.wikipedia.org/wiki/Haversine_formula) for distances. Note that this is a spherical Earth approximation, so it can have up to [0.5% error](https://blog.mapbox.com/fast-geodesic-approximations-with-cheap-ruler-106f229ad016). But 0.5% is more than enough accuracy for a smoothing window!"
   ]
  },
  {
   "cell_type": "code",
   "execution_count": 8,
   "metadata": {},
   "outputs": [],
   "source": [
    "earth_radius = 6371008\n",
    "\n",
    "def earth_dist(lon1, lat1, lon2, lat2):\n",
    "    lon1, lat1, lon2, lat2 = map(numpy.radians, [lon1, lat1, lon2, lat2])\n",
    "    dlon = lon2 - lon1\n",
    "    dlat = lat2 - lat1\n",
    "    a = numpy.sin(dlat/2)**2 + numpy.cos(lat1) * numpy.cos(lat2) * numpy.sin(dlon/2)**2\n",
    "    return 2 * earth_radius * numpy.arcsin(numpy.sqrt(a))"
   ]
  },
  {
   "cell_type": "code",
   "execution_count": 9,
   "metadata": {},
   "outputs": [
    {
     "data": {
      "text/plain": [
       "111195.0662708984"
      ]
     },
     "execution_count": 9,
     "metadata": {},
     "output_type": "execute_result"
    }
   ],
   "source": [
    "earth_dist(0, 89.5, 180, 89.5)"
   ]
  },
  {
   "cell_type": "markdown",
   "metadata": {},
   "source": [
    "## Output Grid"
   ]
  },
  {
   "cell_type": "markdown",
   "metadata": {},
   "source": [
    "For use in a zoomable web map, the output should be in the Web Mercator projection ([EPSG 3857](https://epsg.io/3857)). For easier tiling, we might as well choose the grid spacing to correspond to an integer zoom level. This correspondence is achieved by choosing a grid spacing equal to $ 2 \\pi R_E \\Big/ 2^Z N_T $, where $ R_E $ is the radius of the Earth, $ Z $ is the zoom level, and $ N_T $ is the number of pixels in a tile."
   ]
  },
  {
   "cell_type": "code",
   "execution_count": 10,
   "metadata": {},
   "outputs": [],
   "source": [
    "target_gridspace = 1000 # meters"
   ]
  },
  {
   "cell_type": "code",
   "execution_count": 11,
   "metadata": {},
   "outputs": [],
   "source": [
    "tilesize = 512"
   ]
  },
  {
   "cell_type": "code",
   "execution_count": 12,
   "metadata": {},
   "outputs": [],
   "source": [
    "def proj_mercator(lon, lat):\n",
    "    lon, lat = map(numpy.radians, [lon, lat])\n",
    "    x = earth_radius * lon\n",
    "    y = earth_radius * numpy.log(numpy.tan(numpy.pi / 4 + lat / 2))\n",
    "    return x, y"
   ]
  },
  {
   "cell_type": "code",
   "execution_count": 262,
   "metadata": {},
   "outputs": [],
   "source": [
    "def get_mercatorX(lon):\n",
    "    lon = numpy.radians(lon)\n",
    "    return earth_radius * lon"
   ]
  },
  {
   "cell_type": "code",
   "execution_count": 259,
   "metadata": {},
   "outputs": [],
   "source": [
    "def get_mercatorY(lat):\n",
    "    lat = numpy.radians(lat)\n",
    "    exp_y = numpy.tan(numpy.pi / 4 + lat / 2)\n",
    "    return earth_radius * numpy.log(exp_y)"
   ]
  },
  {
   "cell_type": "code",
   "execution_count": 13,
   "metadata": {},
   "outputs": [
    {
     "data": {
      "text/plain": [
       "(111195.0662708989, 111200.71202654958)"
      ]
     },
     "execution_count": 13,
     "metadata": {},
     "output_type": "execute_result"
    }
   ],
   "source": [
    "proj_mercator(1, 1)"
   ]
  },
  {
   "cell_type": "markdown",
   "metadata": {},
   "source": [
    "Solving for the zoom level, we have\n",
    "$$ dg = \\frac{2 \\pi R_E}{2^Z N_T} \\implies 2^Z = \\frac{2 \\pi R_E}{N_T dg} \\implies Z = \\log_2 \\frac{2 \\pi R_E}{N_T dg} $$"
   ]
  },
  {
   "cell_type": "code",
   "execution_count": 14,
   "metadata": {},
   "outputs": [],
   "source": [
    "def get_zoom(dg):\n",
    "    z = numpy.log2(2 * numpy.pi * earth_radius / tilesize / dg)\n",
    "    return numpy.round(z)"
   ]
  },
  {
   "cell_type": "code",
   "execution_count": 15,
   "metadata": {},
   "outputs": [],
   "source": [
    "maxzoom = get_zoom(target_gridspace)"
   ]
  },
  {
   "cell_type": "markdown",
   "metadata": {},
   "source": [
    "Converting back into the exact gridspace gives"
   ]
  },
  {
   "cell_type": "code",
   "execution_count": 16,
   "metadata": {},
   "outputs": [],
   "source": [
    "dg = 2 * numpy.pi * earth_radius / tilesize / 2 ** maxzoom"
   ]
  },
  {
   "cell_type": "code",
   "execution_count": 17,
   "metadata": {},
   "outputs": [
    {
     "data": {
      "text/plain": [
       "1221.6254839332153"
      ]
     },
     "execution_count": 17,
     "metadata": {},
     "output_type": "execute_result"
    }
   ],
   "source": [
    "dg"
   ]
  },
  {
   "cell_type": "markdown",
   "metadata": {},
   "source": [
    "Note that under the usual web map tiling system, there is no pixel centered at (0, 0). The four pixels nearest (0, 0) would have coordinates $ ( \\pm dg / 2, \\pm dg / 2 ) $. \n",
    "\n",
    "Next, find the (rectangular) range of gridpoints that covers the data"
   ]
  },
  {
   "cell_type": "code",
   "execution_count": 31,
   "metadata": {},
   "outputs": [],
   "source": [
    "def get_lims(lon1, lat1, lon2, lat2, delta):\n",
    "    p1 = proj_mercator(lon1, lat1)\n",
    "    p2 = proj_mercator(lon2, lat2)\n",
    "\n",
    "    def snap_to_grid(x):\n",
    "        return (numpy.floor(x / delta) + 0.5) * delta\n",
    "    \n",
    "    return [*map(snap_to_grid, [*p1, *p2])]"
   ]
  },
  {
   "cell_type": "code",
   "execution_count": 32,
   "metadata": {},
   "outputs": [
    {
     "data": {
      "text/plain": [
       "[-11453349.724615859,\n",
       " 3891487.979069257,\n",
       " -10786342.210388323,\n",
       " 4433889.693935605]"
      ]
     },
     "execution_count": 32,
     "metadata": {},
     "output_type": "execute_result"
    }
   ],
   "source": [
    "get_lims(-103, 33, -97, 37, dg)"
   ]
  },
  {
   "cell_type": "markdown",
   "metadata": {},
   "source": [
    "get_lims gives us the pixel centers of the corners of the output grid. Next, generate an 'mgrid' object:"
   ]
  },
  {
   "cell_type": "code",
   "execution_count": 20,
   "metadata": {},
   "outputs": [],
   "source": [
    "def get_mgrid(xmin, ymin, xmax, ymax):\n",
    "    return numpy.mgrid[xmin:xmax+dg:dg, ymin:ymax+dg,dg]"
   ]
  },
  {
   "cell_type": "markdown",
   "metadata": {},
   "source": [
    "Now, each input data sample must be smeared over the nearby gridpoints, weighted by the kernel. This requires two output arrays: one to accumulate the weighted data values, and another to accumulate the weights. How do we construct these arrays? Intuitively, each gridpoint is a 4-element array: (x, y, value, weight). But our mgrid object is TWO 2D arrays: one containing x-values, and another containing y-values?"
   ]
  },
  {
   "cell_type": "markdown",
   "metadata": {},
   "source": [
    "Another key decision: should distances really be measured using the Haversine formula? Let's think about how the accumulation will work. For a given input data point,\n",
    "1. Compute the indices of the output gridpoints that will be affected by this input\n",
    "2. Compute the values of input * kernel for every affected output gridpoint\n",
    "3. Add the computed values to the appropriate output gridpoints (this could be via numpy array slicing)\n",
    "\n",
    "Step 1 could be challenging if we are directly using the Haversine formula. Presumably we need to find the range of longitude and latitude within a half-window of the input data point, then project these lon/lat limits to Mercator coordinates. The range of longitude can be complicated, as the closest approach of a given line of longitude is not directly East/West of the current point...\n",
    "\n",
    "Alternatively, we could simply assume the kernel is still roughly circular, even after projection. (This assumption is exactly true for Mercator, although the circle's center is shifted. See [Goldberg and Gott, 2007](https://www.physics.drexel.edu/~goldberg/projections/goldberg_gott.pdf), Figure 3.) We can then define the kernel in projected domain, simply scaling its radius by the map scale at the latitude of the input point.\n",
    "\n",
    "With this assumption, Step 3 could be done row-by-row, taking advantage of the separability of the Gaussian kernel."
   ]
  },
  {
   "cell_type": "code",
   "execution_count": 21,
   "metadata": {},
   "outputs": [
    {
     "data": {
      "text/plain": [
       "1.220774588761456"
      ]
     },
     "execution_count": 21,
     "metadata": {},
     "output_type": "execute_result"
    }
   ],
   "source": [
    "1 / numpy.cos(numpy.radians(35))"
   ]
  },
  {
   "cell_type": "markdown",
   "metadata": {},
   "source": [
    "The overall flow would then be something like this:\n",
    "\n",
    "0. Store the x- and y- coordinates of the grid in two 1D arrays; initialize arrays for contributions and values\n",
    "1. Compute the projection scale from the input latitude\n",
    "2. Find the half_width of the kernel in samples: kernel_radius * projection_scale / dg, and width = half_width * 2 + 1\n",
    "3. Project input longitude/latitude to Mercator X/Y\n",
    "4. Find the first affected x-coordinate: ix0 = numpy.round((input_x - xgrid\\[0\\]) / dg) - half_width  (same for iy0)\n",
    "5. Compute the kernel values: xkernel = kernel( (xgrid\\[ix0:ix0 + width\\] - input_x) / (kernel_radius * projection_scale) )  (same for ykernel)\n",
    "6. Accumulate kernels: for iy in (iy0, iy0 + width): contributions\\[iy,ix0:ix0 + width\\] += xkernel * ykernel\\[iy\\]\n",
    "7. Accumulate values:  for iy in (iy0, iy0 + width): values\\[iy,ix0 + width\\] += xkernel * ykernel\\[iy\\] * input_val"
   ]
  },
  {
   "cell_type": "markdown",
   "metadata": {},
   "source": [
    "For generality, the signature of the update could be something like: (contributions, values, xgrid, ygrid, kernel_radius, input(x, y, val)). Or: store the first 4, return update function?"
   ]
  },
  {
   "cell_type": "markdown",
   "metadata": {},
   "source": [
    "For simplest case first test: ignore the projection stuff. Input projected data."
   ]
  },
  {
   "cell_type": "markdown",
   "metadata": {},
   "source": [
    "### Preliminary: Data input"
   ]
  },
  {
   "cell_type": "code",
   "execution_count": 22,
   "metadata": {},
   "outputs": [],
   "source": [
    "import pandas"
   ]
  },
  {
   "cell_type": "code",
   "execution_count": 23,
   "metadata": {},
   "outputs": [],
   "source": [
    "data = pandas.read_csv('data/lonlatrip_0-20.csv')"
   ]
  },
  {
   "cell_type": "code",
   "execution_count": 179,
   "metadata": {},
   "outputs": [
    {
     "data": {
      "text/html": [
       "<div>\n",
       "<style scoped>\n",
       "    .dataframe tbody tr th:only-of-type {\n",
       "        vertical-align: middle;\n",
       "    }\n",
       "\n",
       "    .dataframe tbody tr th {\n",
       "        vertical-align: top;\n",
       "    }\n",
       "\n",
       "    .dataframe thead th {\n",
       "        text-align: right;\n",
       "    }\n",
       "</style>\n",
       "<table border=\"1\" class=\"dataframe\">\n",
       "  <thead>\n",
       "    <tr style=\"text-align: right;\">\n",
       "      <th></th>\n",
       "      <th>SITE_ID</th>\n",
       "      <th>LONGITUDE</th>\n",
       "      <th>LATITUDE</th>\n",
       "      <th>RIPPABILITY</th>\n",
       "    </tr>\n",
       "  </thead>\n",
       "  <tbody>\n",
       "    <tr>\n",
       "      <th>0</th>\n",
       "      <td>2634</td>\n",
       "      <td>-99.940438</td>\n",
       "      <td>35.616586</td>\n",
       "      <td>4.0</td>\n",
       "    </tr>\n",
       "    <tr>\n",
       "      <th>1</th>\n",
       "      <td>2635</td>\n",
       "      <td>-99.936163</td>\n",
       "      <td>35.603896</td>\n",
       "      <td>4.0</td>\n",
       "    </tr>\n",
       "  </tbody>\n",
       "</table>\n",
       "</div>"
      ],
      "text/plain": [
       "   SITE_ID  LONGITUDE   LATITUDE  RIPPABILITY\n",
       "0     2634 -99.940438  35.616586          4.0\n",
       "1     2635 -99.936163  35.603896          4.0"
      ]
     },
     "execution_count": 179,
     "metadata": {},
     "output_type": "execute_result"
    }
   ],
   "source": [
    "data.head(2)"
   ]
  },
  {
   "cell_type": "code",
   "execution_count": 25,
   "metadata": {},
   "outputs": [],
   "source": [
    "minlon = data['LONGITUDE'].min()"
   ]
  },
  {
   "cell_type": "code",
   "execution_count": 26,
   "metadata": {},
   "outputs": [
    {
     "data": {
      "text/plain": [
       "-103.0020833"
      ]
     },
     "execution_count": 26,
     "metadata": {},
     "output_type": "execute_result"
    }
   ],
   "source": [
    "minlon"
   ]
  },
  {
   "cell_type": "code",
   "execution_count": 33,
   "metadata": {},
   "outputs": [
    {
     "data": {
      "text/plain": [
       "[-11453349.724615859,\n",
       " 3979445.0139124487,\n",
       " -10500481.84714795,\n",
       " 4433889.693935605]"
      ]
     },
     "execution_count": 33,
     "metadata": {},
     "output_type": "execute_result"
    }
   ],
   "source": [
    "get_lims(data['LONGITUDE'].min(), data['LATITUDE'].min(), data['LONGITUDE'].max(), data['LATITUDE'].max(), dg)"
   ]
  },
  {
   "cell_type": "markdown",
   "metadata": {},
   "source": [
    "### Test 1: Accumulation in 1D"
   ]
  },
  {
   "cell_type": "markdown",
   "metadata": {},
   "source": [
    "First define the grid in X"
   ]
  },
  {
   "cell_type": "code",
   "execution_count": 148,
   "metadata": {},
   "outputs": [],
   "source": [
    "def get_grid1d(xmin, xmax, dx): \n",
    "    # Snap to nearest grid center. Note: first gridpoint is at dx / 2\n",
    "    x1 = numpy.floor(xmin / dx) * dx + dx / 2\n",
    "    x2 = numpy.floor(xmax / dx) * dx + dx / 2\n",
    "    \n",
    "    # Find the number of gridpoints spanning [xmin, xmax]\n",
    "    ngrid = int( numpy.round((x2 - x1) / dx) ) + 1\n",
    "    \n",
    "    return numpy.linspace(x1, x2, ngrid)"
   ]
  },
  {
   "cell_type": "code",
   "execution_count": 137,
   "metadata": {},
   "outputs": [],
   "source": [
    "bottom_left = proj_mercator(data['LONGITUDE'].min(), data['LATITUDE'].min())"
   ]
  },
  {
   "cell_type": "code",
   "execution_count": 138,
   "metadata": {},
   "outputs": [],
   "source": [
    "top_right = proj_mercator(data['LONGITUDE'].max(), data['LATITUDE'].max())"
   ]
  },
  {
   "cell_type": "code",
   "execution_count": 149,
   "metadata": {},
   "outputs": [],
   "source": [
    "gridx = get_grid1d(bottom_left[0], top_right[0], dg)"
   ]
  },
  {
   "cell_type": "markdown",
   "metadata": {},
   "source": [
    "NOTE: numpy.linspace modifies the grid spacing! (numpy.arange does the same)"
   ]
  },
  {
   "cell_type": "code",
   "execution_count": 160,
   "metadata": {},
   "outputs": [
    {
     "data": {
      "text/plain": [
       "6.209575076354668e-10"
      ]
     },
     "execution_count": 160,
     "metadata": {},
     "output_type": "execute_result"
    }
   ],
   "source": [
    "gridx[1] - gridx[0] - dg"
   ]
  },
  {
   "cell_type": "markdown",
   "metadata": {},
   "source": [
    "Initialize the contributions array"
   ]
  },
  {
   "cell_type": "code",
   "execution_count": 164,
   "metadata": {},
   "outputs": [],
   "source": [
    "contrib_1d = numpy.zeros(len(gridx))"
   ]
  },
  {
   "cell_type": "markdown",
   "metadata": {},
   "source": [
    "Get the x-value of a random data point"
   ]
  },
  {
   "cell_type": "code",
   "execution_count": 178,
   "metadata": {},
   "outputs": [],
   "source": [
    "testx = proj_mercator(*data.iloc[13][['LONGITUDE', 'LATITUDE']].values)[0]"
   ]
  },
  {
   "cell_type": "code",
   "execution_count": 180,
   "metadata": {},
   "outputs": [],
   "source": [
    "kernel_radius = dg * 4."
   ]
  },
  {
   "cell_type": "code",
   "execution_count": 182,
   "metadata": {},
   "outputs": [],
   "source": [
    "half_width = 4"
   ]
  },
  {
   "cell_type": "code",
   "execution_count": 186,
   "metadata": {},
   "outputs": [],
   "source": [
    "width = 2 * half_width + 1"
   ]
  },
  {
   "cell_type": "code",
   "execution_count": 184,
   "metadata": {},
   "outputs": [],
   "source": [
    "ix0 = int(numpy.round((testx - gridx[0]) / dg)) - half_width"
   ]
  },
  {
   "cell_type": "code",
   "execution_count": 195,
   "metadata": {},
   "outputs": [],
   "source": [
    "xkernel = kernel( (gridx[ix0:ix0 + width] - testx) / dg )"
   ]
  },
  {
   "cell_type": "code",
   "execution_count": 227,
   "metadata": {},
   "outputs": [
    {
     "data": {
      "text/plain": [
       "array([9.39677794e-08, 1.07786115e-04, 1.67323797e-02, 3.51531009e-01,\n",
       "       9.99494953e-01, 3.84599403e-01, 2.00284640e-02, 1.41155471e-04,\n",
       "       1.34635264e-07])"
      ]
     },
     "execution_count": 227,
     "metadata": {},
     "output_type": "execute_result"
    }
   ],
   "source": [
    "xkernel * xkernel"
   ]
  },
  {
   "cell_type": "code",
   "execution_count": 204,
   "metadata": {},
   "outputs": [
    {
     "data": {
      "image/png": "[encoded data removed]",
      "text/plain": [
       "<Figure size 432x288 with 1 Axes>"
      ]
     },
     "metadata": {
      "needs_background": "light"
     },
     "output_type": "display_data"
    }
   ],
   "source": [
    "plt.plot(xkernel)\n",
    "plt.show()"
   ]
  },
  {
   "cell_type": "code",
   "execution_count": 198,
   "metadata": {},
   "outputs": [],
   "source": [
    "contrib_1d[ix0:ix0 + width] += xkernel"
   ]
  },
  {
   "cell_type": "code",
   "execution_count": 205,
   "metadata": {},
   "outputs": [
    {
     "data": {
      "image/png": "[encoded data removed]",
      "text/plain": [
       "<Figure size 432x288 with 1 Axes>"
      ]
     },
     "metadata": {
      "needs_background": "light"
     },
     "output_type": "display_data"
    }
   ],
   "source": [
    "plt.plot(gridx[230:260], contrib_1d[230:260])\n",
    "plt.show()"
   ]
  },
  {
   "cell_type": "markdown",
   "metadata": {},
   "source": [
    "### Test 2: Accumulation in 2D"
   ]
  },
  {
   "cell_type": "code",
   "execution_count": 206,
   "metadata": {},
   "outputs": [],
   "source": [
    "gridy = get_grid1d(bottom_left[1], top_right[1], dg)"
   ]
  },
  {
   "cell_type": "code",
   "execution_count": 209,
   "metadata": {},
   "outputs": [
    {
     "data": {
      "text/plain": [
       "373"
      ]
     },
     "execution_count": 209,
     "metadata": {},
     "output_type": "execute_result"
    }
   ],
   "source": [
    "len(gridy)"
   ]
  },
  {
   "cell_type": "code",
   "execution_count": 210,
   "metadata": {},
   "outputs": [],
   "source": [
    "testpt = proj_mercator(*data.iloc[13][['LONGITUDE', 'LATITUDE']].values)"
   ]
  },
  {
   "cell_type": "markdown",
   "metadata": {},
   "source": [
    "Initialize the contributions array"
   ]
  },
  {
   "cell_type": "code",
   "execution_count": 212,
   "metadata": {},
   "outputs": [],
   "source": [
    "contribs_2d = numpy.zeros((len(gridy), len(gridx)))"
   ]
  },
  {
   "cell_type": "code",
   "execution_count": 216,
   "metadata": {},
   "outputs": [
    {
     "data": {
      "text/plain": [
       "(373, 781)"
      ]
     },
     "execution_count": 216,
     "metadata": {},
     "output_type": "execute_result"
    }
   ],
   "source": [
    "contribs_2d.shape"
   ]
  },
  {
   "cell_type": "code",
   "execution_count": 228,
   "metadata": {},
   "outputs": [],
   "source": [
    "def add_point(x, y, value):\n",
    "    # Find the indices of the bottom left corner of the affected area\n",
    "    ix0 = int(numpy.round((x - gridx[0]) / dg)) - half_width\n",
    "    iy0 = int(numpy.round((y - gridy[0]) / dg)) - half_width\n",
    "    \n",
    "    # Compute the kernel values in X and Y\n",
    "    xkernel = kernel( (gridx[ix0:ix0 + width] - x) / dg )\n",
    "    ykernel = kernel( (gridy[iy0:iy0 + width] - y) / dg )\n",
    "    \n",
    "    # Add the kernel values to the contributions array, row by row\n",
    "    for i in range(width):\n",
    "        rowkernel = xkernel * ykernel[i]\n",
    "        contribs_2d[iy0 + i,ix0:ix0 + width] += rowkernel\n",
    "    \n",
    "    return"
   ]
  },
  {
   "cell_type": "code",
   "execution_count": 221,
   "metadata": {},
   "outputs": [
    {
     "data": {
      "text/plain": [
       "[0, 1, 2, 3, 4, 5, 6, 7, 8]"
      ]
     },
     "execution_count": 221,
     "metadata": {},
     "output_type": "execute_result"
    }
   ],
   "source": [
    "[*range(width)]"
   ]
  },
  {
   "cell_type": "code",
   "execution_count": 244,
   "metadata": {},
   "outputs": [
    {
     "data": {
      "image/png": "[encoded data removed]",
      "text/plain": [
       "<Figure size 864x432 with 2 Axes>"
      ]
     },
     "metadata": {
      "needs_background": "light"
     },
     "output_type": "display_data"
    }
   ],
   "source": [
    "plt.figure(figsize=(12,6))\n",
    "c1 = plt.imshow(contribs_2d, origin=\"lower\")\n",
    "plt.colorbar(c1, shrink=0.75)\n",
    "plt.show()"
   ]
  },
  {
   "cell_type": "code",
   "execution_count": 231,
   "metadata": {},
   "outputs": [],
   "source": [
    "add_point(testpt[0], testpt[1], 0)"
   ]
  },
  {
   "cell_type": "code",
   "execution_count": 249,
   "metadata": {},
   "outputs": [
    {
     "data": {
      "image/png": "[encoded data removed]",
      "text/plain": [
       "<Figure size 576x576 with 2 Axes>"
      ]
     },
     "metadata": {
      "needs_background": "light"
     },
     "output_type": "display_data"
    }
   ],
   "source": [
    "plt.figure(figsize=(8,8))\n",
    "c1 = plt.imshow(contribs_2d[335:,220:260], origin=\"lower\")\n",
    "plt.colorbar(c1, shrink=0.7)\n",
    "plt.show()"
   ]
  },
  {
   "cell_type": "markdown",
   "metadata": {},
   "source": [
    "### Putting it all together"
   ]
  },
  {
   "cell_type": "code",
   "execution_count": 379,
   "metadata": {},
   "outputs": [],
   "source": [
    "def grid_data(data, xgrid, ygrid, radius):\n",
    "    # Initialize output arrays\n",
    "    ny = len(ygrid)\n",
    "    nx = len(xgrid)\n",
    "    values = numpy.zeros((ny, nx))\n",
    "    density = numpy.zeros((ny, nx))\n",
    "\n",
    "    # Compute some window sizes in units of grid spacing\n",
    "    dg = xgrid[1] - xgrid[0]\n",
    "    halfwin = int( numpy.round(4 * radius / dg) )\n",
    "    window = 2 * halfwin + 1\n",
    "    \n",
    "    def get_window_ends(x, x0, n):\n",
    "        i0 = int(numpy.round((x - x0) / dg)) - halfwin\n",
    "        i1 = i0 + window\n",
    "        return max(0, i0), min(i1, n)\n",
    "        \n",
    "    def add_data(x, y, val):\n",
    "        # Find the indices of the bottom left corner of the affected area\n",
    "        ix0, ix1 = get_window_ends(x, xgrid[0], nx)\n",
    "        iy0, iy1 = get_window_ends(y, ygrid[0], ny)\n",
    "    \n",
    "        # Compute the kernel values in X and Y\n",
    "        xkernel = kernel( (xgrid[ix0:ix1] - x) / radius )\n",
    "        ykernel = kernel( (ygrid[iy0:iy1] - y) / radius )\n",
    "    \n",
    "        # Accumulate kernel and kernel * data, row by row\n",
    "        for i in range(len(ykernel)):\n",
    "            rowkernel = xkernel * ykernel[i]\n",
    "            density[iy0 + i,ix0:ix1] += rowkernel\n",
    "            values[iy0 + i,ix0:ix1] += rowkernel * val\n",
    "\n",
    "        return\n",
    "    \n",
    "    # Loop over data rows, accumulate results\n",
    "    for index, row in data.iterrows():\n",
    "        add_data(*row.values)\n",
    "    \n",
    "    # Normalize values\n",
    "    values = numpy.divide(values, density, out=numpy.zeros_like(density), where=density>0.01)\n",
    "    \n",
    "    return values, density"
   ]
  },
  {
   "cell_type": "markdown",
   "metadata": {},
   "source": [
    "Note that the above function requires the data to be pre-projected to Web Mercator."
   ]
  },
  {
   "cell_type": "code",
   "execution_count": 254,
   "metadata": {},
   "outputs": [
    {
     "data": {
      "text/html": [
       "<div>\n",
       "<style scoped>\n",
       "    .dataframe tbody tr th:only-of-type {\n",
       "        vertical-align: middle;\n",
       "    }\n",
       "\n",
       "    .dataframe tbody tr th {\n",
       "        vertical-align: top;\n",
       "    }\n",
       "\n",
       "    .dataframe thead th {\n",
       "        text-align: right;\n",
       "    }\n",
       "</style>\n",
       "<table border=\"1\" class=\"dataframe\">\n",
       "  <thead>\n",
       "    <tr style=\"text-align: right;\">\n",
       "      <th></th>\n",
       "      <th>SITE_ID</th>\n",
       "      <th>LONGITUDE</th>\n",
       "      <th>LATITUDE</th>\n",
       "      <th>RIPPABILITY</th>\n",
       "    </tr>\n",
       "  </thead>\n",
       "  <tbody>\n",
       "    <tr>\n",
       "      <th>0</th>\n",
       "      <td>2634</td>\n",
       "      <td>-99.940438</td>\n",
       "      <td>35.616586</td>\n",
       "      <td>4.0</td>\n",
       "    </tr>\n",
       "    <tr>\n",
       "      <th>1</th>\n",
       "      <td>2635</td>\n",
       "      <td>-99.936163</td>\n",
       "      <td>35.603896</td>\n",
       "      <td>4.0</td>\n",
       "    </tr>\n",
       "  </tbody>\n",
       "</table>\n",
       "</div>"
      ],
      "text/plain": [
       "   SITE_ID  LONGITUDE   LATITUDE  RIPPABILITY\n",
       "0     2634 -99.940438  35.616586          4.0\n",
       "1     2635 -99.936163  35.603896          4.0"
      ]
     },
     "execution_count": 254,
     "metadata": {},
     "output_type": "execute_result"
    }
   ],
   "source": [
    "data.head(2)"
   ]
  },
  {
   "cell_type": "code",
   "execution_count": 287,
   "metadata": {},
   "outputs": [],
   "source": [
    "data['x'] = data['LONGITUDE'].map(get_mercatorX)"
   ]
  },
  {
   "cell_type": "code",
   "execution_count": 289,
   "metadata": {},
   "outputs": [],
   "source": [
    "data['y'] = data['LATITUDE'].map(get_mercatorY)"
   ]
  },
  {
   "cell_type": "code",
   "execution_count": 290,
   "metadata": {},
   "outputs": [
    {
     "data": {
      "text/html": [
       "<div>\n",
       "<style scoped>\n",
       "    .dataframe tbody tr th:only-of-type {\n",
       "        vertical-align: middle;\n",
       "    }\n",
       "\n",
       "    .dataframe tbody tr th {\n",
       "        vertical-align: top;\n",
       "    }\n",
       "\n",
       "    .dataframe thead th {\n",
       "        text-align: right;\n",
       "    }\n",
       "</style>\n",
       "<table border=\"1\" class=\"dataframe\">\n",
       "  <thead>\n",
       "    <tr style=\"text-align: right;\">\n",
       "      <th></th>\n",
       "      <th>SITE_ID</th>\n",
       "      <th>LONGITUDE</th>\n",
       "      <th>LATITUDE</th>\n",
       "      <th>RIPPABILITY</th>\n",
       "      <th>x</th>\n",
       "      <th>y</th>\n",
       "    </tr>\n",
       "  </thead>\n",
       "  <tbody>\n",
       "    <tr>\n",
       "      <th>0</th>\n",
       "      <td>2634</td>\n",
       "      <td>-99.940438</td>\n",
       "      <td>35.616586</td>\n",
       "      <td>4.0</td>\n",
       "      <td>-1.111288e+07</td>\n",
       "      <td>4.243244e+06</td>\n",
       "    </tr>\n",
       "    <tr>\n",
       "      <th>1</th>\n",
       "      <td>2635</td>\n",
       "      <td>-99.936163</td>\n",
       "      <td>35.603896</td>\n",
       "      <td>4.0</td>\n",
       "      <td>-1.111241e+07</td>\n",
       "      <td>4.241508e+06</td>\n",
       "    </tr>\n",
       "  </tbody>\n",
       "</table>\n",
       "</div>"
      ],
      "text/plain": [
       "   SITE_ID  LONGITUDE   LATITUDE  RIPPABILITY             x             y\n",
       "0     2634 -99.940438  35.616586          4.0 -1.111288e+07  4.243244e+06\n",
       "1     2635 -99.936163  35.603896          4.0 -1.111241e+07  4.241508e+06"
      ]
     },
     "execution_count": 290,
     "metadata": {},
     "output_type": "execute_result"
    }
   ],
   "source": [
    "data.head(2)"
   ]
  },
  {
   "cell_type": "code",
   "execution_count": 295,
   "metadata": {},
   "outputs": [],
   "source": [
    "data_strip = data.loc[(data['LONGITUDE'] > -97) & (data['LONGITUDE'] < -96.3)]"
   ]
  },
  {
   "cell_type": "code",
   "execution_count": 296,
   "metadata": {},
   "outputs": [
    {
     "data": {
      "text/plain": [
       "(121976, 6)"
      ]
     },
     "execution_count": 296,
     "metadata": {},
     "output_type": "execute_result"
    }
   ],
   "source": [
    "data.shape"
   ]
  },
  {
   "cell_type": "code",
   "execution_count": 297,
   "metadata": {},
   "outputs": [
    {
     "data": {
      "text/plain": [
       "(13017, 6)"
      ]
     },
     "execution_count": 297,
     "metadata": {},
     "output_type": "execute_result"
    }
   ],
   "source": [
    "data_strip.shape"
   ]
  },
  {
   "cell_type": "code",
   "execution_count": 352,
   "metadata": {},
   "outputs": [],
   "source": [
    "xyv = pandas.DataFrame({'x': data['x'], 'y': data['y'], 'val': data['RIPPABILITY']})"
   ]
  },
  {
   "cell_type": "code",
   "execution_count": 353,
   "metadata": {},
   "outputs": [
    {
     "data": {
      "text/plain": [
       "(121976, 3)"
      ]
     },
     "execution_count": 353,
     "metadata": {},
     "output_type": "execute_result"
    }
   ],
   "source": [
    "xyv.shape"
   ]
  },
  {
   "cell_type": "code",
   "execution_count": 358,
   "metadata": {},
   "outputs": [],
   "source": [
    "strip_gridx = get_grid1d(xyv.x.min(), xyv.x.max(), 2 * dg)"
   ]
  },
  {
   "cell_type": "code",
   "execution_count": 359,
   "metadata": {},
   "outputs": [],
   "source": [
    "strip_gridy = get_grid1d(xyv.y.min(), xyv.y.max(), 2 * dg)"
   ]
  },
  {
   "cell_type": "code",
   "execution_count": 380,
   "metadata": {},
   "outputs": [],
   "source": [
    "vals, dens = grid_data(xyv, strip_gridx, strip_gridy, 3 * dg)"
   ]
  },
  {
   "cell_type": "code",
   "execution_count": 381,
   "metadata": {},
   "outputs": [
    {
     "data": {
      "image/png": "[encoded data removed]",
      "text/plain": [
       "<Figure size 1152x648 with 2 Axes>"
      ]
     },
     "metadata": {
      "needs_background": "light"
     },
     "output_type": "display_data"
    }
   ],
   "source": [
    "plt.figure(figsize=(16, 9))\n",
    "c1 = plt.imshow(vals, origin=\"lower\", vmin=1, vmax=4)\n",
    "plt.colorbar(c1, shrink=0.7)\n",
    "plt.show()"
   ]
  },
  {
   "cell_type": "code",
   "execution_count": 386,
   "metadata": {},
   "outputs": [
    {
     "data": {
      "image/png": "[encoded data removed]",
      "text/plain": [
       "<Figure size 1152x648 with 2 Axes>"
      ]
     },
     "metadata": {
      "needs_background": "light"
     },
     "output_type": "display_data"
    }
   ],
   "source": [
    "plt.figure(figsize=(16, 9))\n",
    "c1 = plt.imshow(dens, origin=\"lower\", vmin=0, vmax=1)\n",
    "plt.colorbar(c1, shrink=0.7)\n",
    "plt.show()"
   ]
  },
  {
   "cell_type": "code",
   "execution_count": null,
   "metadata": {},
   "outputs": [],
   "source": []
  }
 ],
 "metadata": {
  "kernelspec": {
   "display_name": "Python 3",
   "language": "python",
   "name": "python3"
  },
  "language_info": {
   "codemirror_mode": {
    "name": "ipython",
    "version": 3
   },
   "file_extension": ".py",
   "mimetype": "text/x-python",
   "name": "python",
   "nbconvert_exporter": "python",
   "pygments_lexer": "ipython3",
   "version": "3.6.9"
  }
 },
 "nbformat": 4,
 "nbformat_minor": 4
}
